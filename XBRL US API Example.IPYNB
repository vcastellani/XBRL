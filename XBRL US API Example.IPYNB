{
 "cells": [
  {
   "cell_type": "markdown",
   "metadata": {},
   "source": [
    "#### XBRL US API Example\n",
    "This example obtains non-restated Revenue and Net Income for Apple, Microsoft, and Amazon for 2022 and 2023. "
   ]
  },
  {
   "cell_type": "markdown",
   "metadata": {},
   "source": [
    "##### Import Required Packages"
   ]
  },
  {
   "cell_type": "code",
   "execution_count": 1,
   "metadata": {},
   "outputs": [],
   "source": [
    "import os, re, sys, json, requests, getpass, urllib\n",
    "import pandas as pd\n",
    "import numpy as np\n",
    "import seaborn as sns\n",
    "import matplotlib.pyplot as plt\n",
    "from IPython.display import display, HTML\n",
    "from datetime import datetime\n",
    "from urllib.parse import urlencode"
   ]
  },
  {
   "cell_type": "markdown",
   "metadata": {},
   "source": [
    "##### Obtain API Access - Please Enter Your Email, Client ID, and Client Secret"
   ]
  },
  {
   "cell_type": "code",
   "execution_count": 2,
   "metadata": {},
   "outputs": [
    {
     "name": "stdout",
     "output_type": "stream",
     "text": [
      "Access Granted.\n"
     ]
    }
   ],
   "source": [
    "password = getpass.getpass(prompt = 'Enter Your XBRL US Password: ')\n",
    "\n",
    "body_auth = {'username' : 'vac35@psu.edu', \n",
    "            'client_id': 'Obtain Client ID from XBRL Website', \n",
    "            'client_secret' : 'Obtain Client Secret from XBRL Website', \n",
    "            'password' : ''.join(password), \n",
    "            'grant_type' : 'password', \n",
    "            'platform' : 'ipynb' }\n",
    "\n",
    "payload = urlencode(body_auth)\n",
    "url = 'https://api.xbrl.us/oauth2/token'\n",
    "headers = {\"Content-Type\": \"application/x-www-form-urlencoded\"}\n",
    "\n",
    "res = requests.request(\"POST\", url, data = payload, headers = headers)\n",
    "auth_json = res.json()\n",
    "\n",
    "if 'error' in auth_json:\n",
    "    print (\"Access Denied\")\n",
    "else:\n",
    "    print (\"Access Granted.\")\n",
    "    \n",
    "access_token = auth_json['access_token']\n",
    "refresh_token = auth_json['refresh_token']\n",
    "newaccess = ''\n",
    "newrefresh = ''"
   ]
  },
  {
   "cell_type": "markdown",
   "metadata": {},
   "source": [
    "##### Enter Parameters - Elements, Companies, Years, Filings, and Fields"
   ]
  },
  {
   "cell_type": "code",
   "execution_count": 3,
   "metadata": {},
   "outputs": [],
   "source": [
    "XBRL_Elements = ['RevenueFromContractWithCustomerExcludingAssessedTax', \n",
    "     \t\t     'NetIncomeLoss']\n",
    "\n",
    "Companies = ['0000789019', ## Microsoft (MSFT)\n",
    "           \t '0001018724', ## Amazon (AMZN)\n",
    "             '0000320193'] ## Apple Inc. (AAPL)\n",
    "\n",
    "Years = ['2022', '2023'] \n",
    "\n",
    "Filings = ['10-K']\n",
    "\n",
    "Fields = ['entity.cik',\n",
    "    \t  'entity.name.sort(ASC)',\n",
    "    \t  'report.filing-date',\n",
    "          'period.fiscal-year',\n",
    "    \t  'report.document-type',\n",
    "          'concept.local-name',\n",
    "          'fact.value',\n",
    "          'unit']"
   ]
  },
  {
   "cell_type": "markdown",
   "metadata": {},
   "source": [
    "##### Run The Query"
   ]
  },
  {
   "cell_type": "code",
   "execution_count": 4,
   "metadata": {},
   "outputs": [
    {
     "name": "stdout",
     "output_type": "stream",
     "text": [
      "Getting the data for: \"fact.has-dimensions\" = FALSE\n",
      "Number of Observations Obtained:  72\n",
      "Number of Observations: 72\n"
     ]
    }
   ],
   "source": [
    "Parameters = {'concept.local-name': ','.join(XBRL_Elements),\n",
    "     \t      'period.fiscal-period': 'Y',\n",
    "     \t      'period.fiscal-year': ','.join(Years),\n",
    "    \t      'unit': 'USD',\n",
    "     \t      'entity.cik': ','.join(Companies),\n",
    "     \t      'report.document-type': ','.join(Filings),}  \n",
    "\n",
    "has_dimensions = 'FALSE'\n",
    "\n",
    "if has_dimensions == 'ALL':\n",
    "    dimension_options = ['TRUE', 'FALSE']\n",
    "else:\n",
    "    dimension_options = [has_dimensions]\n",
    "\n",
    "search_endpoint = 'https://api.xbrl.us/api/v1/fact/search'\n",
    "    \n",
    "all_res_list = []\n",
    "for dimensions_param in dimension_options:\n",
    "\n",
    "    print('Getting the data for: \"fact.has-dimensions\" = {}'.format(dimensions_param))\n",
    "\n",
    "    done_retrieving_all_results = False\n",
    "    offset = 0\n",
    "\n",
    "    while not done_retrieving_all_results:\n",
    "\n",
    "        Parameters['fact.has-dimensions'] = dimensions_param\n",
    "        Parameters['fields'] = ','.join(Fields) + ',fact.offset({})'.format(offset) \n",
    "\n",
    "        res = requests.get(search_endpoint, params = Parameters, headers={'Authorization' : 'Bearer {}'.format(access_token)})\n",
    "        \n",
    "        res_json = res.json()\n",
    "        res_list = res_json['data']\n",
    "        all_res_list += res_list\n",
    "        \n",
    "        paging_dict = res_json['paging']\n",
    "\n",
    "        print('Number of Observations Obtained: ', paging_dict['count'])\n",
    "\n",
    "        if paging_dict['count'] >= 2000:\n",
    "            offset += paging_dict['count']\n",
    "        else:\n",
    "            done_retrieving_all_results = True\n",
    "    \n",
    "df = pd.DataFrame(all_res_list)\n",
    "print('Number of Observations: {}'.format(len(df)))\n"
   ]
  },
  {
   "cell_type": "markdown",
   "metadata": {},
   "source": [
    "##### Keep Relevant Variables and Rename Them"
   ]
  },
  {
   "cell_type": "code",
   "execution_count": 5,
   "metadata": {},
   "outputs": [],
   "source": [
    "df = df[['entity.cik', 'entity.name', 'period.fiscal-year', 'fact.value', 'concept.local-name', 'report.filing-date']]\n",
    "df.columns = ['CIK', 'Company', 'Fiscal Year', 'value', 'account', 'filing']"
   ]
  },
  {
   "cell_type": "markdown",
   "metadata": {},
   "source": [
    "##### Sort Data by CIK, Fiscal Year, Account, and Filing Date and Remove Duplicates"
   ]
  },
  {
   "cell_type": "code",
   "execution_count": 6,
   "metadata": {},
   "outputs": [],
   "source": [
    "df = df.sort_values(by = ['CIK', 'Fiscal Year', 'filing', 'account'])\n",
    "df = df.drop_duplicates(subset = ['CIK', 'Fiscal Year', 'filing', 'account'], keep = 'last')"
   ]
  },
  {
   "cell_type": "markdown",
   "metadata": {},
   "source": [
    "##### Scale Values by Millions "
   ]
  },
  {
   "cell_type": "code",
   "execution_count": 7,
   "metadata": {},
   "outputs": [],
   "source": [
    "df['value'] = df['value'] / 1000000"
   ]
  },
  {
   "cell_type": "markdown",
   "metadata": {},
   "source": [
    "##### Reorganize Data "
   ]
  },
  {
   "cell_type": "code",
   "execution_count": 8,
   "metadata": {},
   "outputs": [],
   "source": [
    "df = df.pivot_table(index=[\"CIK\", \"Company\", \"Fiscal Year\"], columns=\"account\", values=\"value\", aggfunc='min')\n",
    "df = df.rename_axis(None, axis=1)\n",
    "df.reset_index(inplace=True)"
   ]
  },
  {
   "cell_type": "markdown",
   "metadata": {},
   "source": [
    "##### Clean and Format Data"
   ]
  },
  {
   "cell_type": "code",
   "execution_count": 9,
   "metadata": {},
   "outputs": [],
   "source": [
    "df.columns = ['CIK', 'Company', 'Fiscal Year', 'Net Income', 'Revenue']\n",
    "df['Net Income'] = df['Net Income'].apply(lambda x: f'${x:,.2f}')\n",
    "df['Revenue'] = df['Revenue'].apply(lambda x: f'${x:,.2f}')"
   ]
  },
  {
   "cell_type": "code",
   "execution_count": 10,
   "metadata": {},
   "outputs": [
    {
     "data": {
      "text/html": [
       "<div>\n",
       "<style scoped>\n",
       "    .dataframe tbody tr th:only-of-type {\n",
       "        vertical-align: middle;\n",
       "    }\n",
       "\n",
       "    .dataframe tbody tr th {\n",
       "        vertical-align: top;\n",
       "    }\n",
       "\n",
       "    .dataframe thead th {\n",
       "        text-align: right;\n",
       "    }\n",
       "</style>\n",
       "<table border=\"1\" class=\"dataframe\">\n",
       "  <thead>\n",
       "    <tr style=\"text-align: right;\">\n",
       "      <th></th>\n",
       "      <th>CIK</th>\n",
       "      <th>Company</th>\n",
       "      <th>Fiscal Year</th>\n",
       "      <th>Net Income</th>\n",
       "      <th>Revenue</th>\n",
       "    </tr>\n",
       "  </thead>\n",
       "  <tbody>\n",
       "    <tr>\n",
       "      <th>0</th>\n",
       "      <td>0000320193</td>\n",
       "      <td>Apple Inc.</td>\n",
       "      <td>2022</td>\n",
       "      <td>$99,803.00</td>\n",
       "      <td>$394,328.00</td>\n",
       "    </tr>\n",
       "    <tr>\n",
       "      <th>1</th>\n",
       "      <td>0000320193</td>\n",
       "      <td>Apple Inc.</td>\n",
       "      <td>2023</td>\n",
       "      <td>$96,995.00</td>\n",
       "      <td>$383,285.00</td>\n",
       "    </tr>\n",
       "    <tr>\n",
       "      <th>2</th>\n",
       "      <td>0000789019</td>\n",
       "      <td>MICROSOFT CORPORATION</td>\n",
       "      <td>2022</td>\n",
       "      <td>$72,738.00</td>\n",
       "      <td>$198,270.00</td>\n",
       "    </tr>\n",
       "    <tr>\n",
       "      <th>3</th>\n",
       "      <td>0000789019</td>\n",
       "      <td>MICROSOFT CORPORATION</td>\n",
       "      <td>2023</td>\n",
       "      <td>$72,361.00</td>\n",
       "      <td>$211,915.00</td>\n",
       "    </tr>\n",
       "    <tr>\n",
       "      <th>4</th>\n",
       "      <td>0001018724</td>\n",
       "      <td>AMAZON.COM, INC.</td>\n",
       "      <td>2022</td>\n",
       "      <td>$-2,722.00</td>\n",
       "      <td>$513,983.00</td>\n",
       "    </tr>\n",
       "    <tr>\n",
       "      <th>5</th>\n",
       "      <td>0001018724</td>\n",
       "      <td>AMAZON.COM, INC.</td>\n",
       "      <td>2023</td>\n",
       "      <td>$30,425.00</td>\n",
       "      <td>$574,785.00</td>\n",
       "    </tr>\n",
       "  </tbody>\n",
       "</table>\n",
       "</div>"
      ],
      "text/plain": [
       "          CIK                Company  Fiscal Year  Net Income      Revenue\n",
       "0  0000320193             Apple Inc.         2022  $99,803.00  $394,328.00\n",
       "1  0000320193             Apple Inc.         2023  $96,995.00  $383,285.00\n",
       "2  0000789019  MICROSOFT CORPORATION         2022  $72,738.00  $198,270.00\n",
       "3  0000789019  MICROSOFT CORPORATION         2023  $72,361.00  $211,915.00\n",
       "4  0001018724       AMAZON.COM, INC.         2022  $-2,722.00  $513,983.00\n",
       "5  0001018724       AMAZON.COM, INC.         2023  $30,425.00  $574,785.00"
      ]
     },
     "execution_count": 10,
     "metadata": {},
     "output_type": "execute_result"
    }
   ],
   "source": [
    "df"
   ]
  },
  {
   "cell_type": "markdown",
   "metadata": {},
   "source": [
    "#### Refresh Token\n",
    "The cell below is only needed to refresh an expired access token after 60 minutes. When the access token no longer returns results, run the cell below to refresh the access token or re-enter credentials by running the cell above. Until the refresh token process is needed, skip ahead to Make a Query."
   ]
  },
  {
   "cell_type": "code",
   "execution_count": null,
   "metadata": {},
   "outputs": [],
   "source": [
    "token = token if newrefresh != '' else refresh_token \n",
    "\n",
    "refresh_auth = {'client_id': 'a04fc50b-a62c-4e96-8578-6e71b3c9bc52', \n",
    "                'client_secret' : 'dc6805e2-f03b-4f68-808d-89cfffcfc469', \n",
    "                'grant_type' : 'refresh_token',\n",
    "                'platform' : 'ipynb', \n",
    "                'refresh_token' : ''.join(token) }\n",
    "refreshres = requests.post(url, data=refresh_auth)\n",
    "refresh_json = refreshres.json()\n",
    "access_token = refresh_json['access_token']\n",
    "refresh_token = refresh_json['refresh_token']#print('access token: ' + access_token + 'refresh token: ' + refresh_token)\n",
    "print('Your access token is refreshed for 60 minutes. If it expires again, run this cell to generate a new token and continue to use the query cells below.')\n",
    "print(access_token)"
   ]
  }
 ],
 "metadata": {
  "kernelspec": {
   "display_name": "Python 3",
   "language": "python",
   "name": "python3"
  },
  "language_info": {
   "codemirror_mode": {
    "name": "ipython",
    "version": 3
   },
   "file_extension": ".py",
   "mimetype": "text/x-python",
   "name": "python",
   "nbconvert_exporter": "python",
   "pygments_lexer": "ipython3",
   "version": "3.12.0"
  }
 },
 "nbformat": 4,
 "nbformat_minor": 2
}
