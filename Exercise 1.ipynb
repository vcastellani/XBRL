{
 "cells": [
  {
   "cell_type": "markdown",
   "metadata": {},
   "source": [
    "# Exercise 1: Cumulative Revenue and Cash Flow Growth\n",
    "As of the writing of this exercise, the five largest public companies in the United States by market capitalization are **Microsoft** (0000789019), **Apple** (0000320193), **Alphabet** (0001652044), **Amazon** (0001018724), and **Nvidia** (0001045810). Let’s suppose that we are interested in investing in these companies and want to examine their cumulative revenue and operating cash flow growth over the past decade. We will use XBRL’s API to create graphs for this purpose. I’ll start by walking through the procedure for the cumulative revenue growth. *Please note that Google was restructured into Alphabet during 2015. To obtain financial data for Alphabet prior to 2015, one must use Google’s CIK of 0001288776.* "
   ]
  },
  {
   "cell_type": "markdown",
   "metadata": {},
   "source": [
    "## Step 1: Import Required Stata Modules"
   ]
  },
  {
   "cell_type": "code",
   "execution_count": null,
   "metadata": {},
   "outputs": [],
   "source": [
    "import os, re, sys, json, requests, getpass, urllib\n",
    "import pandas as pd\n",
    "import numpy as np\n",
    "import seaborn as sns\n",
    "import matplotlib.pyplot as plt\n",
    "from IPython.display import display, HTML\n",
    "from datetime import datetime\n",
    "from urllib.parse import urlencode"
   ]
  },
  {
   "cell_type": "markdown",
   "metadata": {},
   "source": [
    "## Step 2: Obtain XBRL API Access"
   ]
  },
  {
   "cell_type": "code",
   "execution_count": null,
   "metadata": {},
   "outputs": [],
   "source": [
    "password = getpass.getpass(prompt = 'Enter Your XBRL US Password: ')\n",
    "\n",
    "body_auth = {'username' : 'vac35@psu.edu', \n",
    "            'client_id': 'Obtain Client ID from XBRL Website', \n",
    "            'client_secret' : 'Obtain Client Secret from XBRL Website', \n",
    "            'password' : ''.join(password), \n",
    "            'grant_type' : 'password', \n",
    "            'platform' : 'ipynb' }\n",
    "\n",
    "payload = urlencode(body_auth)\n",
    "url = 'https://api.xbrl.us/oauth2/token'\n",
    "headers = {\"Content-Type\": \"application/x-www-form-urlencoded\"}\n",
    "\n",
    "res = requests.request(\"POST\", url, data = payload, headers = headers)\n",
    "auth_json = res.json()\n",
    "\n",
    "if 'error' in auth_json:\n",
    "    print (\"Access Denied\")\n",
    "else:\n",
    "    print (\"Access Granted.\")\n",
    "    \n",
    "access_token = auth_json['access_token']\n",
    "refresh_token = auth_json['refresh_token']\n",
    "newaccess = ''\n",
    "newrefresh = ''"
   ]
  },
  {
   "cell_type": "markdown",
   "metadata": {},
   "source": [
    "## Step 3: Query the XBRL API for Revenue Data"
   ]
  },
  {
   "cell_type": "markdown",
   "metadata": {},
   "source": [
    "##### Substep 3.1: Identify Relevant XBRL Elements\n",
    "In this step, you need to identify the tags associated with your request. For this example, we are interested in identifying yearly revenue. An easy way to approach this would be to go to an actual XBRL filing from a relevant company to see the tag associated with total revenues. \n",
    "\n",
    "Here is a link for Apple's 2020 Interactive 10-K filing - https://www.sec.gov/cgi-bin/viewer?action=view&cik=320193&accession_number=0000320193-20-000096&xbrl_type=v. \n",
    "\n",
    "On this webpage, you can click on 'Financial Statements', 'Consolidated Statements of Operations', and 'Net Sales'. This will open up a box defining 'Net Sales', providing references, and more details. Click the '+' icon in front of 'Details' to obtain the tag. As you can see the 'Net Sales' value is tagged as 'us-gaap_RevenueFromContractWithCustomerExcludingAssessedTax'. The prefix 'us-gaap' defines the relevant taxonomy and we can safely ignore it. \n",
    "\n",
    "*Please note that tags can and will change over time. For example, 'Revenues' and 'SalesRevenueNet' were also used to capture total revenues at some point in time.*"
   ]
  },
  {
   "cell_type": "code",
   "execution_count": null,
   "metadata": {},
   "outputs": [],
   "source": [
    "XBRL_Elements = ['RevenueFromContractWithCustomerExcludingAssessedTax', \n",
    "                 'Revenues', \n",
    "                 'SalesRevenueNet'\n",
    "                 ]"
   ]
  },
  {
   "cell_type": "markdown",
   "metadata": {},
   "source": [
    "##### Substep 3.2: Identify Relevant Companies\n",
    "In this step, you need to supply the companies that you want the data from. When using XBRL's API, companies are identified using the SEC's Central Index Key (or CIK).  "
   ]
  },
  {
   "cell_type": "code",
   "execution_count": null,
   "metadata": {},
   "outputs": [],
   "source": [
    "Companies = ['0000789019', # Microsoft Corp\n",
    "             '0000320193', # Apple Inc.\n",
    "             '0001652044', # Alphabet Inc.\n",
    "             '0001288776', # Google (Now Alphabet Inc.)\n",
    "             '0001018724', # Amazon Com Inc\n",
    "             '0001045810'  # Nvidia Corp\n",
    "                ]"
   ]
  },
  {
   "cell_type": "markdown",
   "metadata": {},
   "source": [
    "##### Substep 3.3: Identify Relevant Years\n",
    "In this step, you need to supply the years that you are requesting the data for."
   ]
  },
  {
   "cell_type": "code",
   "execution_count": null,
   "metadata": {},
   "outputs": [],
   "source": [
    "Years = ['2012', '2013', '2014', '2015', '2016', '2017', '2018', '2019', '2020', '2021', '2022'] "
   ]
  },
  {
   "cell_type": "markdown",
   "metadata": {},
   "source": [
    "##### Substep 3.4: Identify Relevant Filings\n",
    "In this step, you need to supply the specific filings from which the relevant data was filed on. For our example, we are interested in annual data so we use 10-K filings. "
   ]
  },
  {
   "cell_type": "code",
   "execution_count": null,
   "metadata": {},
   "outputs": [],
   "source": [
    "Filings = ['10-K']"
   ]
  },
  {
   "cell_type": "markdown",
   "metadata": {},
   "source": [
    "##### Substep 3.5: Run the Query\n",
    "\n",
    "The query will store the data into a dataframe titled *df*."
   ]
  },
  {
   "cell_type": "code",
   "execution_count": null,
   "metadata": {},
   "outputs": [],
   "source": [
    "Fields = ['entity.cik',\n",
    "          'entity.name.sort(ASC)',\n",
    "          'report.filing-date',\n",
    "          'period.fiscal-year',\n",
    "          'report.document-type',\n",
    "          'concept.local-name',\n",
    "          'fact.value',\n",
    "          'unit']\n",
    "\n",
    "Parameters = {'concept.local-name': ','.join(XBRL_Elements),\n",
    "              'period.fiscal-period': 'Y',\n",
    "              'period.fiscal-year': ','.join(Years),\n",
    "              'unit': 'USD',\n",
    "              'entity.cik': ','.join(Companies),\n",
    "              'report.document-type': ','.join(Filings)}  \n",
    "\n",
    "has_dimensions = 'FALSE'\n",
    "\n",
    "if has_dimensions == 'ALL':\n",
    "    dimension_options = ['TRUE', 'FALSE']\n",
    "else:\n",
    "    dimension_options = [has_dimensions]\n",
    "\n",
    "search_endpoint = 'https://api.xbrl.us/api/v1/fact/search'\n",
    "    \n",
    "all_res_list = []\n",
    "for dimensions_param in dimension_options:\n",
    "\n",
    "    print('Getting the data for: \"fact.has-dimensions\" = {}'.format(dimensions_param))\n",
    "    \n",
    "    done_retrieving_all_results = False\n",
    "    offset = 0\n",
    "\n",
    "    while not done_retrieving_all_results:\n",
    "\n",
    "        Parameters['fact.has-dimensions'] = dimensions_param\n",
    "        Parameters['fields'] = ','.join(Fields) + ',fact.offset({})'.format(offset) \n",
    "\n",
    "        res = requests.get(search_endpoint, params = Parameters, headers={'Authorization' : 'Bearer {}'.format(access_token)})\n",
    "        \n",
    "        res_json = res.json()\n",
    "        res_list = res_json['data']\n",
    "        all_res_list += res_list\n",
    "        \n",
    "        paging_dict = res_json['paging']\n",
    "\n",
    "        print('Number of Observations Obtained: ', paging_dict['count'])\n",
    "\n",
    "        if paging_dict['count'] >= 2000:\n",
    "            offset += paging_dict['count']\n",
    "        else:\n",
    "            done_retrieving_all_results = True\n",
    "    \n",
    "df = pd.DataFrame(all_res_list)\n",
    "print('Number of Observations: {}'.format(len(df)))"
   ]
  },
  {
   "cell_type": "markdown",
   "metadata": {},
   "source": [
    "## Step 4: Clean the Data"
   ]
  },
  {
   "cell_type": "markdown",
   "metadata": {},
   "source": [
    "##### Substep 4.1: Keep Relevant Variables\n",
    "\n",
    "The API queries provide a lot of information. In this step, we only want to keep the relevant variables. To do so, we create a new dataframe titled *rev* and then rename our variables into more manageable names."
   ]
  },
  {
   "cell_type": "code",
   "execution_count": null,
   "metadata": {},
   "outputs": [],
   "source": [
    "rev = df[['entity.cik', 'entity.name', 'report.filing-date', 'period.fiscal-year', 'fact.value']]\n",
    "rev.columns = ['cik', 'company', 'filing', 'fyear', 'rev']"
   ]
  },
  {
   "cell_type": "markdown",
   "metadata": {},
   "source": [
    "##### Substep 4.2: Merge Alphabet & Google\n",
    "\n",
    "As previously mentioned, Google was restructured into Alpabet during 2015. As a result, we need to link Google's financial data to Alphabet's. To do so, we just replace Google's CIK code with Alphabet's CIK Code."
   ]
  },
  {
   "cell_type": "code",
   "execution_count": null,
   "metadata": {},
   "outputs": [],
   "source": [
    "rev.loc[rev['cik'] == '0001288776', 'cik'] = '0001652044'"
   ]
  },
  {
   "cell_type": "markdown",
   "metadata": {},
   "source": [
    "##### Substep 4.3: Remove Duplicate Observations\n",
    "\n",
    "Our query provided a lot of duplicate facts. We want to keep one observation per CIK - fiscal year. First, we sort the observations by CIK, fiscal year, and filing date. There are two options that are available here - restated data or as-filed data. If we want to see how the market responded to the filing, we keep the first observation using 'keep = 'first''. If we want to see the most accurate figure, use the last option using 'keep = 'last''. This will provide restated data if the data was restated. "
   ]
  },
  {
   "cell_type": "code",
   "execution_count": null,
   "metadata": {},
   "outputs": [],
   "source": [
    "rev = rev.sort_values(by = ['cik', 'fyear', 'filing'])\n",
    "rev = rev.drop_duplicates(subset = ['cik', 'fyear'], keep = 'last')"
   ]
  },
  {
   "cell_type": "markdown",
   "metadata": {},
   "source": [
    "##### Substep 4.4: Create Revenue Growth Variable\n",
    "\n",
    "In order to create the revenue growth variable, we first need to sort the data by CIK and fiscal year. Next, we obtain the lagged variable which we name *lag_rev*. We then create the revenue growth variable which we name *rev_growth*. Finally, we drop observations with missing values of *rev_growth*. "
   ]
  },
  {
   "cell_type": "code",
   "execution_count": null,
   "metadata": {},
   "outputs": [],
   "source": [
    "rev = rev.sort_values(by = ['cik', 'fyear'])\n",
    "rev['lag_rev'] = rev.groupby('cik')['rev'].shift(1)\n",
    "rev['rev_growth'] = (rev['rev'] - rev['lag_rev'] ) / rev['lag_rev']\n",
    "rev.dropna(subset = ['rev_growth'], inplace = True)"
   ]
  },
  {
   "cell_type": "markdown",
   "metadata": {},
   "source": [
    "##### Substep 4.5: Create Cumulative Revenue Growth Variable\n",
    "\n",
    "In order to create the cumulative revenue growth variable, we first need to take the natural log of one plus the revenue growth percentage (as you cannot add up percentages). Next, we sort the data to ensure that they are in the correct order. We then create the cumulative revenue growth variable by using the cumsum() function. Finally, we take the expotential minus one to arrive at the cumulative revenue growth variable. "
   ]
  },
  {
   "cell_type": "code",
   "execution_count": null,
   "metadata": {},
   "outputs": [],
   "source": [
    "rev['cum_rev_growth'] = np.log(1 + rev['rev_growth'])\n",
    "rev = rev.sort_values(by = ['cik', 'fyear'])\n",
    "rev['cum_rev_growth'] = rev.groupby('cik')['cum_rev_growth'].cumsum()\n",
    "rev['cum_rev_growth'] = (np.exp(rev['cum_rev_growth']) - 1)"
   ]
  },
  {
   "cell_type": "markdown",
   "metadata": {},
   "source": [
    "## Step 5: Graph The Results\n",
    "\n",
    "There are many different graphing options to choose from when using Python. "
   ]
  },
  {
   "cell_type": "code",
   "execution_count": null,
   "metadata": {},
   "outputs": [],
   "source": [
    "plt.figure(figsize=(10, 10))\n",
    "\n",
    "ax = sns.lineplot(data = rev, x = 'fyear', y = 'cum_rev_growth', hue = 'cik', marker = 'o')\n",
    "sns.set(font=\"Times New Roman\")\n",
    "plt.title('Cumulative Revenue Growth by Year', fontname = 'Times New Roman', fontsize = 28)\n",
    "plt.xlabel('Year', fontname = 'Times New Roman', fontsize = 16)\n",
    "plt.ylabel('Cumulative Return Growth', fontname = 'Times New Roman', fontsize = 16)\n",
    "legend_handles, _ = ax.get_legend_handles_labels()\n",
    "ax.legend(legend_handles, ['Apple Inc.', 'Microsoft Corporation', 'Amazon.com, Inc.', 'Nvidia Corporation', 'Alphabet Inc.'], fontsize = 12, bbox_to_anchor=(1.04, 0.5), loc=\"center left\",)\n",
    "plt.ylim(0,8)\n",
    "ticks_loc = ax.get_yticks()\n",
    "ax.set_yticks(ax.get_yticks().tolist())\n",
    "ax.set_yticklabels(['{:,.0%}'.format(x) for x in ticks_loc])\n",
    "ax.yaxis.set_label_coords(-0.075, 0.5)\n",
    "ax.xaxis.set_label_coords(0.5, -0.075)\n",
    "\n",
    "plt.savefig('Cumulative Revenue Growth.png', dpi = 1000, bbox_inches=\"tight\")\n",
    "plt.show()"
   ]
  },
  {
   "cell_type": "markdown",
   "metadata": {},
   "source": [
    "## Exercise 1: Repeat the Analysis for Operating Cash Flows"
   ]
  },
  {
   "cell_type": "markdown",
   "metadata": {},
   "source": [
    "## Token Refresher"
   ]
  },
  {
   "cell_type": "code",
   "execution_count": null,
   "metadata": {},
   "outputs": [],
   "source": [
    "token = token if newrefresh != '' else refresh_token \n",
    "\n",
    "refresh_auth = {'client_id': 'a04fc50b-a62c-4e96-8578-6e71b3c9bc52', \n",
    "                'client_secret' : 'dc6805e2-f03b-4f68-808d-89cfffcfc469', \n",
    "                'grant_type' : 'refresh_token',\n",
    "                'platform' : 'ipynb', \n",
    "                'refresh_token' : ''.join(token) }\n",
    "refreshres = requests.post(url, data=refresh_auth)\n",
    "refresh_json = refreshres.json()\n",
    "access_token = refresh_json['access_token']\n",
    "refresh_token = refresh_json['refresh_token']#print('access token: ' + access_token + 'refresh token: ' + refresh_token)\n",
    "print('Token Refreshed')"
   ]
  }
 ],
 "metadata": {
  "kernelspec": {
   "display_name": "Python 3",
   "language": "python",
   "name": "python3"
  },
  "language_info": {
   "codemirror_mode": {
    "name": "ipython",
    "version": 3
   },
   "file_extension": ".py",
   "mimetype": "text/x-python",
   "name": "python",
   "nbconvert_exporter": "python",
   "pygments_lexer": "ipython3",
   "version": "3.12.0"
  }
 },
 "nbformat": 4,
 "nbformat_minor": 2
}
