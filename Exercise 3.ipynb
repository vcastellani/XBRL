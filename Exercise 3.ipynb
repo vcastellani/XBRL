{
 "cells": [
  {
   "cell_type": "markdown",
   "metadata": {},
   "source": [
    "# Exercise 3: Financial Statement Analysis\n",
    "For this exercise, let’s perform some financial statement analysis on the car industry, which is associated with the SIC code of 3771. We will rank companies, for their fiscal years ending in 2022, on their (i) current ratio, (ii) debt to equity ratio, and (iii) return on equity. First, I’ll walk through how to obtain the current ratios and then ask you to use a similar procedure to identify which firm has the highest return on equity and which has the highest debt to equity. "
   ]
  },
  {
   "cell_type": "markdown",
   "metadata": {},
   "source": [
    "## Step 1: Import Required Stata Modules"
   ]
  },
  {
   "cell_type": "code",
   "execution_count": null,
   "metadata": {},
   "outputs": [],
   "source": [
    "import os, re, sys, json, requests, getpass, urllib\n",
    "import pandas as pd\n",
    "import numpy as np\n",
    "import seaborn as sns\n",
    "import matplotlib.pyplot as plt\n",
    "from IPython.display import display, HTML\n",
    "from datetime import datetime\n",
    "from urllib.parse import urlencode"
   ]
  },
  {
   "cell_type": "markdown",
   "metadata": {},
   "source": [
    "## Step 2: Obtain XBRL API Access"
   ]
  },
  {
   "cell_type": "code",
   "execution_count": null,
   "metadata": {},
   "outputs": [],
   "source": [
    "password = getpass.getpass(prompt = 'Enter Your XBRL US Password: ')\n",
    "\n",
    "body_auth = {'username' : 'vac35@psu.edu', \n",
    "            'client_id': 'Obtain Client ID from XBRL Website', \n",
    "            'client_secret' : 'Obtain Client Secret from XBRL Website', \n",
    "            'password' : ''.join(password), \n",
    "            'grant_type' : 'password', \n",
    "            'platform' : 'ipynb' }\n",
    "\n",
    "payload = urlencode(body_auth)\n",
    "url = 'https://api.xbrl.us/oauth2/token'\n",
    "headers = {\"Content-Type\": \"application/x-www-form-urlencoded\"}\n",
    "\n",
    "res = requests.request(\"POST\", url, data = payload, headers = headers)\n",
    "auth_json = res.json()\n",
    "\n",
    "if 'error' in auth_json:\n",
    "    print (\"Access Denied\")\n",
    "else:\n",
    "    print (\"Access Granted.\")\n",
    "    \n",
    "access_token = auth_json['access_token']\n",
    "refresh_token = auth_json['refresh_token']\n",
    "newaccess = ''\n",
    "newrefresh = ''"
   ]
  },
  {
   "cell_type": "markdown",
   "metadata": {},
   "source": [
    "## Step 3: Query the XBRL API\n",
    "\n",
    "In this step, you need to identify the tags associated with your request. For this example, we are interested in current assets and current liabilites. An easy way to approach this would be to go to an actual XBRL filing from a relevant company to see the tag associated with cash. \n",
    "\n",
    "*Please note that tags can and will change over time.*"
   ]
  },
  {
   "cell_type": "code",
   "execution_count": null,
   "metadata": {},
   "outputs": [],
   "source": [
    "XBRL_Elements = ['AssetsCurrent',\n",
    "                 'LiabilitiesCurrent']"
   ]
  },
  {
   "cell_type": "markdown",
   "metadata": {},
   "source": [
    "##### Substep 3.2: Identify Other Relevant Parameters\n",
    "In this step, you need to supply the years that you are requesting the data for and the specific filings from which the relevant data was filed on. For our example, we are only interested in annual data for 2022. We also need to specify which industry we are interested in.\n",
    "\n",
    "*Please note that, as compared to Exercise 1, we are not entering any parameters for companies. This is because we are interested in all companies within the SIC code of 3711 for this query.*"
   ]
  },
  {
   "cell_type": "code",
   "execution_count": null,
   "metadata": {},
   "outputs": [],
   "source": [
    "Filings = ['10-K']\n",
    "Years = ['2022'] \n",
    "SIC = ['3711']"
   ]
  },
  {
   "cell_type": "markdown",
   "metadata": {},
   "source": [
    "##### Substep 3.3: Run the Query\n",
    "\n",
    "The query will store the data into a dataframe titled *df*.\n",
    "\n",
    "Please note that the line *'entity.cik': ','.join(Companies),* has been removed from the parameters list and the line *'report.sic-code: ','.join(SIC)* is used instead."
   ]
  },
  {
   "cell_type": "code",
   "execution_count": null,
   "metadata": {},
   "outputs": [],
   "source": [
    "Fields = ['entity.cik',\n",
    "          'entity.name.sort(ASC)',\n",
    "          'report.filing-date',\n",
    "          'period.fiscal-year',\n",
    "          'report.document-type',\n",
    "          'concept.local-name',\n",
    "          'fact.value',\n",
    "          'unit',\n",
    "          'report.sic-code']\n",
    "\n",
    "Parameters = {'concept.local-name': ','.join(XBRL_Elements),\n",
    "              'period.fiscal-period': 'Y',\n",
    "              'period.fiscal-year': ','.join(Years),\n",
    "              'unit': 'USD',\n",
    "              'report.document-type': ','.join(Filings),\n",
    "              'report.sic-code': ','.join(SIC)}  \n",
    "\n",
    "has_dimensions = 'FALSE'\n",
    "\n",
    "if has_dimensions == 'ALL':\n",
    "    dimension_options = ['TRUE', 'FALSE']\n",
    "else:\n",
    "    dimension_options = [has_dimensions]\n",
    "\n",
    "search_endpoint = 'https://api.xbrl.us/api/v1/fact/search'\n",
    "    \n",
    "all_res_list = []\n",
    "for dimensions_param in dimension_options:\n",
    "\n",
    "    print('Getting the data for: \"fact.has-dimensions\" = {}'.format(dimensions_param))\n",
    "    \n",
    "    done_retrieving_all_results = False\n",
    "    offset = 0\n",
    "\n",
    "    while not done_retrieving_all_results:\n",
    "\n",
    "        Parameters['fact.has-dimensions'] = dimensions_param\n",
    "        Parameters['fields'] = ','.join(Fields) + ',fact.offset({})'.format(offset) \n",
    "\n",
    "        res = requests.get(search_endpoint, params = Parameters, headers={'Authorization' : 'Bearer {}'.format(access_token)})\n",
    "        \n",
    "        res_json = res.json()\n",
    "        res_list = res_json['data']\n",
    "        all_res_list += res_list\n",
    "        \n",
    "        paging_dict = res_json['paging']\n",
    "\n",
    "        print('Number of Observations Obtained: ', paging_dict['count'])\n",
    "\n",
    "        if paging_dict['count'] >= 2000:\n",
    "            offset += paging_dict['count']\n",
    "        else:\n",
    "            done_retrieving_all_results = True\n",
    "    \n",
    "df = pd.DataFrame(all_res_list)\n",
    "print('Number of Observations: {}'.format(len(df)))"
   ]
  },
  {
   "cell_type": "markdown",
   "metadata": {},
   "source": [
    "## Step 4: Clean the Data"
   ]
  },
  {
   "cell_type": "markdown",
   "metadata": {},
   "source": [
    "##### Substep 4.1: Keep Relevant Variables\n",
    "\n",
    "In this step, we create a new dataframe titled *fundamentals* and then rename our variables into more manageable names."
   ]
  },
  {
   "cell_type": "code",
   "execution_count": null,
   "metadata": {},
   "outputs": [],
   "source": [
    "fundamentals = df[['entity.cik', 'entity.name', 'fact.value', 'report.filing-date', 'concept.local-name']]\n",
    "fundamentals.columns = ['CIK', 'Company', 'value', 'filing', 'account']"
   ]
  },
  {
   "cell_type": "markdown",
   "metadata": {},
   "source": [
    "##### Substep 4.2: Remove Duplicate Observations\n",
    "\n",
    "We want to keep one observation per CIK - fiscal year. First, we sort the observations by CIK, filing date, and account. There are two options that are available here - restated data or as-filed data. If we want to see how the market responded to the filing, we keep the first observation using 'keep = 'first''. If we want to see the most accurate figure, use the last option using 'keep = 'last''. This will provide restated data if the data was restated. Please note that this may cause the results to change over time."
   ]
  },
  {
   "cell_type": "code",
   "execution_count": null,
   "metadata": {},
   "outputs": [],
   "source": [
    "fundamentals = fundamentals.sort_values(by = ['CIK', 'filing', 'account'])\n",
    "fundamentals = fundamentals.drop_duplicates(subset = ['CIK', 'filing', 'account'], keep = 'last')"
   ]
  },
  {
   "cell_type": "markdown",
   "metadata": {},
   "source": [
    "##### Substep 4.3: Reorganize Data \n",
    "\n",
    "In this step, we want to reorganize the data to one CIK - Fiscal Year observations. For each observation, the stable variables are *CIK* and *Company*. We need to pivot *account* and *value*. "
   ]
  },
  {
   "cell_type": "code",
   "execution_count": null,
   "metadata": {},
   "outputs": [],
   "source": [
    "fundamentals = fundamentals.pivot_table(index=[\"CIK\", \"Company\"], columns=\"account\", values=\"value\", aggfunc='min')\n",
    "fundamentals = fundamentals.rename_axis(None, axis=1)\n",
    "fundamentals.reset_index(inplace=True)"
   ]
  },
  {
   "cell_type": "markdown",
   "metadata": {},
   "source": [
    "##### Substep 4.3: Further Clean Data\n",
    "\n",
    "First, rename the relevant variables (i.e., *CIK*, *Company*, *Current Assets*, and *Current Liabilities*). Next, we will create the *Current Ratio* variable. "
   ]
  },
  {
   "cell_type": "code",
   "execution_count": null,
   "metadata": {},
   "outputs": [],
   "source": [
    "fundamentals.columns = ['CIK', 'Company', 'Current Assets', 'Current Liabilities']\n",
    "fundamentals['Current Ratio'] = fundamentals['Current Assets'] / fundamentals['Current Liabilities']"
   ]
  },
  {
   "cell_type": "markdown",
   "metadata": {},
   "source": [
    "##### Substep 4.4: Further (Further) Clean Data\n",
    "\n",
    "First, keep only relevant variables (i.e., *CIK*, *Company*, and *Current Ratio*). Next, we sort the file by *Current Ratio*."
   ]
  },
  {
   "cell_type": "code",
   "execution_count": null,
   "metadata": {},
   "outputs": [],
   "source": [
    "fundamentals = fundamentals[['CIK', 'Company', 'Current Ratio']]\n",
    "fundamentals = fundamentals.sort_values(by = 'Current Ratio', ascending = False)"
   ]
  },
  {
   "cell_type": "markdown",
   "metadata": {},
   "source": [
    "## Step 5: Display the Results"
   ]
  },
  {
   "cell_type": "code",
   "execution_count": null,
   "metadata": {},
   "outputs": [],
   "source": [
    "fundamentals"
   ]
  },
  {
   "cell_type": "markdown",
   "metadata": {},
   "source": [
    "## Token Refresher"
   ]
  },
  {
   "cell_type": "code",
   "execution_count": null,
   "metadata": {},
   "outputs": [],
   "source": [
    "token = token if newrefresh != '' else refresh_token \n",
    "\n",
    "refresh_auth = {'client_id': 'a04fc50b-a62c-4e96-8578-6e71b3c9bc52', \n",
    "                'client_secret' : 'dc6805e2-f03b-4f68-808d-89cfffcfc469', \n",
    "                'grant_type' : 'refresh_token',\n",
    "                'platform' : 'ipynb', \n",
    "                'refresh_token' : ''.join(token) }\n",
    "refreshres = requests.post(url, data=refresh_auth)\n",
    "refresh_json = refreshres.json()\n",
    "access_token = refresh_json['access_token']\n",
    "refresh_token = refresh_json['refresh_token']#print('access token: ' + access_token + 'refresh token: ' + refresh_token)\n",
    "print('Token Refreshed')"
   ]
  }
 ],
 "metadata": {
  "kernelspec": {
   "display_name": "Python 3",
   "language": "python",
   "name": "python3"
  },
  "language_info": {
   "codemirror_mode": {
    "name": "ipython",
    "version": 3
   },
   "file_extension": ".py",
   "mimetype": "text/x-python",
   "name": "python",
   "nbconvert_exporter": "python",
   "pygments_lexer": "ipython3",
   "version": "3.12.0"
  }
 },
 "nbformat": 4,
 "nbformat_minor": 2
}
